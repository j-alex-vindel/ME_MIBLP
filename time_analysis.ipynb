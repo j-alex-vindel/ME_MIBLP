{
 "cells": [
  {
   "cell_type": "code",
   "execution_count": 1,
   "metadata": {},
   "outputs": [],
   "source": [
    "import pandas as pd\n",
    "import matplotlib.pyplot as plt\n",
    "import seaborn as sns"
   ]
  },
  {
   "cell_type": "code",
   "execution_count": 2,
   "metadata": {},
   "outputs": [],
   "source": [
    "df = pd.read_csv(\"Bobj_times.csv\")"
   ]
  },
  {
   "cell_type": "code",
   "execution_count": 12,
   "metadata": {},
   "outputs": [],
   "source": [
    "import numpy\n",
    "\n",
    "df = df.assign(Logtime = lambda x: numpy.log10(x['Time']))"
   ]
  },
  {
   "cell_type": "code",
   "execution_count": 13,
   "metadata": {},
   "outputs": [
    {
     "data": {
      "text/html": [
       "<div>\n",
       "<style scoped>\n",
       "    .dataframe tbody tr th:only-of-type {\n",
       "        vertical-align: middle;\n",
       "    }\n",
       "\n",
       "    .dataframe tbody tr th {\n",
       "        vertical-align: top;\n",
       "    }\n",
       "\n",
       "    .dataframe thead th {\n",
       "        text-align: right;\n",
       "    }\n",
       "</style>\n",
       "<table border=\"1\" class=\"dataframe\">\n",
       "  <thead>\n",
       "    <tr style=\"text-align: right;\">\n",
       "      <th></th>\n",
       "      <th>Myindex</th>\n",
       "      <th>v[b]</th>\n",
       "      <th>v[c]</th>\n",
       "      <th>Time</th>\n",
       "      <th>Method</th>\n",
       "      <th>Tgt</th>\n",
       "      <th>Strain</th>\n",
       "      <th>K</th>\n",
       "      <th>BObj</th>\n",
       "      <th>Logtime</th>\n",
       "    </tr>\n",
       "  </thead>\n",
       "  <tbody>\n",
       "    <tr>\n",
       "      <th>0</th>\n",
       "      <td>0</td>\n",
       "      <td>0.079190</td>\n",
       "      <td>18.781970</td>\n",
       "      <td>14.212</td>\n",
       "      <td>M</td>\n",
       "      <td>10</td>\n",
       "      <td>iJO1366</td>\n",
       "      <td>2</td>\n",
       "      <td>EX_ac_e</td>\n",
       "      <td>1.152655</td>\n",
       "    </tr>\n",
       "    <tr>\n",
       "      <th>1</th>\n",
       "      <td>1</td>\n",
       "      <td>0.079190</td>\n",
       "      <td>18.781940</td>\n",
       "      <td>14.380</td>\n",
       "      <td>M</td>\n",
       "      <td>20</td>\n",
       "      <td>iJO1366</td>\n",
       "      <td>2</td>\n",
       "      <td>EX_ac_e</td>\n",
       "      <td>1.157759</td>\n",
       "    </tr>\n",
       "    <tr>\n",
       "      <th>2</th>\n",
       "      <td>2</td>\n",
       "      <td>0.079190</td>\n",
       "      <td>18.781860</td>\n",
       "      <td>12.527</td>\n",
       "      <td>M</td>\n",
       "      <td>30</td>\n",
       "      <td>iJO1366</td>\n",
       "      <td>2</td>\n",
       "      <td>EX_ac_e</td>\n",
       "      <td>1.097847</td>\n",
       "    </tr>\n",
       "    <tr>\n",
       "      <th>3</th>\n",
       "      <td>3</td>\n",
       "      <td>0.127190</td>\n",
       "      <td>18.043720</td>\n",
       "      <td>13.472</td>\n",
       "      <td>M</td>\n",
       "      <td>40</td>\n",
       "      <td>iJO1366</td>\n",
       "      <td>2</td>\n",
       "      <td>EX_ac_e</td>\n",
       "      <td>1.129432</td>\n",
       "    </tr>\n",
       "    <tr>\n",
       "      <th>4</th>\n",
       "      <td>4</td>\n",
       "      <td>0.127190</td>\n",
       "      <td>18.043650</td>\n",
       "      <td>14.788</td>\n",
       "      <td>M</td>\n",
       "      <td>50</td>\n",
       "      <td>iJO1366</td>\n",
       "      <td>2</td>\n",
       "      <td>EX_ac_e</td>\n",
       "      <td>1.169909</td>\n",
       "    </tr>\n",
       "    <tr>\n",
       "      <th>...</th>\n",
       "      <td>...</td>\n",
       "      <td>...</td>\n",
       "      <td>...</td>\n",
       "      <td>...</td>\n",
       "      <td>...</td>\n",
       "      <td>...</td>\n",
       "      <td>...</td>\n",
       "      <td>...</td>\n",
       "      <td>...</td>\n",
       "      <td>...</td>\n",
       "    </tr>\n",
       "    <tr>\n",
       "      <th>562</th>\n",
       "      <td>562</td>\n",
       "      <td>0.708457</td>\n",
       "      <td>3.937722</td>\n",
       "      <td>11.672</td>\n",
       "      <td>O</td>\n",
       "      <td>80</td>\n",
       "      <td>iAF1260</td>\n",
       "      <td>3</td>\n",
       "      <td>EX_succ_e</td>\n",
       "      <td>1.067145</td>\n",
       "    </tr>\n",
       "    <tr>\n",
       "      <th>563</th>\n",
       "      <td>563</td>\n",
       "      <td>0.817633</td>\n",
       "      <td>0.850923</td>\n",
       "      <td>145.279</td>\n",
       "      <td>P</td>\n",
       "      <td>80</td>\n",
       "      <td>iAF1260</td>\n",
       "      <td>3</td>\n",
       "      <td>EX_succ_e</td>\n",
       "      <td>2.162203</td>\n",
       "    </tr>\n",
       "    <tr>\n",
       "      <th>564</th>\n",
       "      <td>564</td>\n",
       "      <td>0.797014</td>\n",
       "      <td>2.317337</td>\n",
       "      <td>24.848</td>\n",
       "      <td>M</td>\n",
       "      <td>90</td>\n",
       "      <td>iAF1260</td>\n",
       "      <td>3</td>\n",
       "      <td>EX_succ_e</td>\n",
       "      <td>1.395291</td>\n",
       "    </tr>\n",
       "    <tr>\n",
       "      <th>565</th>\n",
       "      <td>565</td>\n",
       "      <td>0.817633</td>\n",
       "      <td>0.851042</td>\n",
       "      <td>57.517</td>\n",
       "      <td>O</td>\n",
       "      <td>90</td>\n",
       "      <td>iAF1260</td>\n",
       "      <td>3</td>\n",
       "      <td>EX_succ_e</td>\n",
       "      <td>1.759796</td>\n",
       "    </tr>\n",
       "    <tr>\n",
       "      <th>566</th>\n",
       "      <td>566</td>\n",
       "      <td>0.797013</td>\n",
       "      <td>2.151700</td>\n",
       "      <td>9.994</td>\n",
       "      <td>P</td>\n",
       "      <td>90</td>\n",
       "      <td>iAF1260</td>\n",
       "      <td>3</td>\n",
       "      <td>EX_succ_e</td>\n",
       "      <td>0.999739</td>\n",
       "    </tr>\n",
       "  </tbody>\n",
       "</table>\n",
       "<p>567 rows × 10 columns</p>\n",
       "</div>"
      ],
      "text/plain": [
       "     Myindex      v[b]       v[c]     Time Method  Tgt   Strain  K       BObj  \\\n",
       "0          0  0.079190  18.781970   14.212      M   10  iJO1366  2    EX_ac_e   \n",
       "1          1  0.079190  18.781940   14.380      M   20  iJO1366  2    EX_ac_e   \n",
       "2          2  0.079190  18.781860   12.527      M   30  iJO1366  2    EX_ac_e   \n",
       "3          3  0.127190  18.043720   13.472      M   40  iJO1366  2    EX_ac_e   \n",
       "4          4  0.127190  18.043650   14.788      M   50  iJO1366  2    EX_ac_e   \n",
       "..       ...       ...        ...      ...    ...  ...      ... ..        ...   \n",
       "562      562  0.708457   3.937722   11.672      O   80  iAF1260  3  EX_succ_e   \n",
       "563      563  0.817633   0.850923  145.279      P   80  iAF1260  3  EX_succ_e   \n",
       "564      564  0.797014   2.317337   24.848      M   90  iAF1260  3  EX_succ_e   \n",
       "565      565  0.817633   0.851042   57.517      O   90  iAF1260  3  EX_succ_e   \n",
       "566      566  0.797013   2.151700    9.994      P   90  iAF1260  3  EX_succ_e   \n",
       "\n",
       "      Logtime  \n",
       "0    1.152655  \n",
       "1    1.157759  \n",
       "2    1.097847  \n",
       "3    1.129432  \n",
       "4    1.169909  \n",
       "..        ...  \n",
       "562  1.067145  \n",
       "563  2.162203  \n",
       "564  1.395291  \n",
       "565  1.759796  \n",
       "566  0.999739  \n",
       "\n",
       "[567 rows x 10 columns]"
      ]
     },
     "execution_count": 13,
     "metadata": {},
     "output_type": "execute_result"
    }
   ],
   "source": [
    "df"
   ]
  },
  {
   "cell_type": "code",
   "execution_count": 14,
   "metadata": {},
   "outputs": [
    {
     "data": {
      "text/plain": [
       "<AxesSubplot: xlabel='Logtime', ylabel='Method'>"
      ]
     },
     "execution_count": 14,
     "metadata": {},
     "output_type": "execute_result"
    },
    {
     "data": {
      "image/png": "[encoded data removed]",
      "text/plain": [
       "<Figure size 640x480 with 1 Axes>"
      ]
     },
     "metadata": {},
     "output_type": "display_data"
    }
   ],
   "source": [
    "sns.boxplot(data=df,x=\"Logtime\",y='Method',hue=\"K\")"
   ]
  },
  {
   "cell_type": "code",
   "execution_count": 1,
   "metadata": {},
   "outputs": [
    {
     "data": {
      "text/plain": [
       "30.0"
      ]
     },
     "execution_count": 1,
     "metadata": {},
     "output_type": "execute_result"
    }
   ],
   "source": [
    "(240-180)/2"
   ]
  },
  {
   "cell_type": "code",
   "execution_count": 2,
   "metadata": {},
   "outputs": [
    {
     "data": {
      "text/plain": [
       "360"
      ]
     },
     "execution_count": 2,
     "metadata": {},
     "output_type": "execute_result"
    }
   ],
   "source": [
    "180*2"
   ]
  },
  {
   "cell_type": "code",
   "execution_count": 4,
   "metadata": {},
   "outputs": [
    {
     "data": {
      "text/plain": [
       "1"
      ]
     },
     "execution_count": 4,
     "metadata": {},
     "output_type": "execute_result"
    }
   ],
   "source": [
    "((-2*1)+1)*(1-2)"
   ]
  },
  {
   "cell_type": "code",
   "execution_count": null,
   "metadata": {},
   "outputs": [],
   "source": []
  }
 ],
 "metadata": {
  "kernelspec": {
   "display_name": "Python 3",
   "language": "python",
   "name": "python3"
  },
  "language_info": {
   "codemirror_mode": {
    "name": "ipython",
    "version": 3
   },
   "file_extension": ".py",
   "mimetype": "text/x-python",
   "name": "python",
   "nbconvert_exporter": "python",
   "pygments_lexer": "ipython3",
   "version": "3.10.8"
  }
 },
 "nbformat": 4,
 "nbformat_minor": 2
}
