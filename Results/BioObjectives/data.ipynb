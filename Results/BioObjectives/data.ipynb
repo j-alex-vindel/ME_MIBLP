{
 "cells": [
  {
   "cell_type": "code",
   "execution_count": 2,
   "metadata": {},
   "outputs": [],
   "source": [
    "import pandas as pd\n",
    "import os"
   ]
  },
  {
   "cell_type": "code",
   "execution_count": 3,
   "metadata": {},
   "outputs": [],
   "source": [
    "# df = pd.read_csv(\"Revised_iJO_EX_ac_e_k2.csv\")\n",
    "files = os.listdir()"
   ]
  },
  {
   "cell_type": "code",
   "execution_count": 4,
   "metadata": {},
   "outputs": [
    {
     "data": {
      "text/plain": [
       "['BObjs_complete.csv',\n",
       " 'data.ipynb',\n",
       " 'Full_Results.xlsx',\n",
       " 'Revised_iAF_EX_ac_e_k1.csv',\n",
       " 'Revised_iAF_EX_ac_e_k2.csv',\n",
       " 'Revised_iAF_EX_ac_e_k3.csv',\n",
       " 'Revised_iAF_EX_etoh_e_k1.csv',\n",
       " 'Revised_iAF_EX_etoh_e_k2.csv',\n",
       " 'Revised_iAF_EX_etoh_e_k3.csv',\n",
       " 'Revised_iAF_EX_for_e_k1.csv',\n",
       " 'Revised_iAF_EX_for_e_k2.csv',\n",
       " 'Revised_iAF_EX_for_e_k3.csv',\n",
       " 'Revised_iAF_EX_fum_e_k1.csv',\n",
       " 'Revised_iAF_EX_fum_e_k2.csv',\n",
       " 'Revised_iAF_EX_fum_e_k3.csv',\n",
       " 'Revised_iJO_EX_ac_e_k1.csv',\n",
       " 'Revised_iJO_EX_ac_e_k2.csv',\n",
       " 'Revised_iJO_EX_ac_e_k3.csv',\n",
       " 'Revised_iJO_EX_etoh_e_k1.csv',\n",
       " 'Revised_iJO_EX_etoh_e_k2.csv',\n",
       " 'Revised_iJO_EX_etoh_e_k3.csv',\n",
       " 'Revised_iJO_EX_for_e_k1.csv',\n",
       " 'Revised_iJO_EX_for_e_k2.csv',\n",
       " 'Revised_iJO_EX_for_e_k3.csv',\n",
       " 'Revised_iJO_EX_lac__D_e_k1.csv',\n",
       " 'Revised_iJO_EX_lac__D_e_k2.csv',\n",
       " 'Revised_iJO_EX_lac__D_e_k3.csv',\n",
       " 'Revised_iJR_EX_for_e_k1.csv',\n",
       " 'Revised_iJR_EX_for_e_k2.csv',\n",
       " 'Revised_iJR_EX_for_e_k3.csv',\n",
       " 'Revised_iJR_EX_fum_e_k1.csv',\n",
       " 'Revised_iJR_EX_fum_e_k2.csv',\n",
       " 'Revised_iJR_EX_fum_e_k3.csv']"
      ]
     },
     "execution_count": 4,
     "metadata": {},
     "output_type": "execute_result"
    }
   ],
   "source": [
    "files"
   ]
  },
  {
   "cell_type": "code",
   "execution_count": 5,
   "metadata": {},
   "outputs": [
    {
     "name": "stdout",
     "output_type": "stream",
     "text": [
      "Revised_iAF_EX_ac_e_k1.csv\n",
      "Revised_iAF_EX_ac_e_k2.csv\n",
      "Revised_iAF_EX_ac_e_k3.csv\n",
      "Revised_iAF_EX_etoh_e_k1.csv\n",
      "Revised_iAF_EX_etoh_e_k2.csv\n",
      "Revised_iAF_EX_etoh_e_k3.csv\n",
      "Revised_iAF_EX_for_e_k1.csv\n",
      "Revised_iAF_EX_for_e_k2.csv\n",
      "Revised_iAF_EX_for_e_k3.csv\n",
      "Revised_iAF_EX_fum_e_k1.csv\n",
      "Revised_iAF_EX_fum_e_k2.csv\n",
      "Revised_iAF_EX_fum_e_k3.csv\n",
      "Revised_iJO_EX_ac_e_k1.csv\n",
      "Revised_iJO_EX_ac_e_k2.csv\n",
      "Revised_iJO_EX_ac_e_k3.csv\n",
      "Revised_iJO_EX_etoh_e_k1.csv\n",
      "Revised_iJO_EX_etoh_e_k2.csv\n",
      "Revised_iJO_EX_etoh_e_k3.csv\n",
      "Revised_iJO_EX_for_e_k1.csv\n",
      "Revised_iJO_EX_for_e_k2.csv\n",
      "Revised_iJO_EX_for_e_k3.csv\n",
      "Revised_iJO_EX_lac__D_e_k1.csv\n",
      "Revised_iJO_EX_lac__D_e_k2.csv\n",
      "Revised_iJO_EX_lac__D_e_k3.csv\n",
      "Revised_iJR_EX_for_e_k1.csv\n",
      "Revised_iJR_EX_for_e_k2.csv\n",
      "Revised_iJR_EX_for_e_k3.csv\n",
      "Revised_iJR_EX_fum_e_k1.csv\n",
      "Revised_iJR_EX_fum_e_k2.csv\n",
      "Revised_iJR_EX_fum_e_k3.csv\n"
     ]
    }
   ],
   "source": [
    "for fi in files:\n",
    "    if fi[-3:] == \"csv\" and fi[0]==\"R\":\n",
    "        print(fi)\n"
   ]
  },
  {
   "cell_type": "code",
   "execution_count": 6,
   "metadata": {},
   "outputs": [],
   "source": [
    "def newdf(filename:str):\n",
    "    txt = filename.split(\"_\")\n",
    "    strain = txt[1]\n",
    "    k = int(txt[-1][1])\n",
    "    bobj = txt[3]\n",
    "    cols = ['MB',\"MC\",\"OB\",'OC',\"PB\",\"PC\",\"tgt\",\"MGKO\",\"OGKO\",\"PGKO\",\"Mt\",\"Ot\",\"Pt\"]\n",
    "    df = pd.read_csv(filename,usecols=cols)\n",
    "    df['K'] = [k]*len(df)\n",
    "    df['Strain'] = [strain]*len(df)\n",
    "    df['BObj'] = [bobj] * len(df)\n",
    "    return df"
   ]
  },
  {
   "cell_type": "code",
   "execution_count": 10,
   "metadata": {},
   "outputs": [],
   "source": [
    "names = files[3:]"
   ]
  },
  {
   "cell_type": "code",
   "execution_count": 11,
   "metadata": {},
   "outputs": [
    {
     "data": {
      "text/plain": [
       "['Revised_iAF_EX_ac_e_k1.csv',\n",
       " 'Revised_iAF_EX_ac_e_k2.csv',\n",
       " 'Revised_iAF_EX_ac_e_k3.csv',\n",
       " 'Revised_iAF_EX_etoh_e_k1.csv',\n",
       " 'Revised_iAF_EX_etoh_e_k2.csv',\n",
       " 'Revised_iAF_EX_etoh_e_k3.csv',\n",
       " 'Revised_iAF_EX_for_e_k1.csv',\n",
       " 'Revised_iAF_EX_for_e_k2.csv',\n",
       " 'Revised_iAF_EX_for_e_k3.csv',\n",
       " 'Revised_iAF_EX_fum_e_k1.csv',\n",
       " 'Revised_iAF_EX_fum_e_k2.csv',\n",
       " 'Revised_iAF_EX_fum_e_k3.csv',\n",
       " 'Revised_iJO_EX_ac_e_k1.csv',\n",
       " 'Revised_iJO_EX_ac_e_k2.csv',\n",
       " 'Revised_iJO_EX_ac_e_k3.csv',\n",
       " 'Revised_iJO_EX_etoh_e_k1.csv',\n",
       " 'Revised_iJO_EX_etoh_e_k2.csv',\n",
       " 'Revised_iJO_EX_etoh_e_k3.csv',\n",
       " 'Revised_iJO_EX_for_e_k1.csv',\n",
       " 'Revised_iJO_EX_for_e_k2.csv',\n",
       " 'Revised_iJO_EX_for_e_k3.csv',\n",
       " 'Revised_iJO_EX_lac__D_e_k1.csv',\n",
       " 'Revised_iJO_EX_lac__D_e_k2.csv',\n",
       " 'Revised_iJO_EX_lac__D_e_k3.csv',\n",
       " 'Revised_iJR_EX_for_e_k1.csv',\n",
       " 'Revised_iJR_EX_for_e_k2.csv',\n",
       " 'Revised_iJR_EX_for_e_k3.csv',\n",
       " 'Revised_iJR_EX_fum_e_k1.csv',\n",
       " 'Revised_iJR_EX_fum_e_k2.csv',\n",
       " 'Revised_iJR_EX_fum_e_k3.csv']"
      ]
     },
     "execution_count": 11,
     "metadata": {},
     "output_type": "execute_result"
    }
   ],
   "source": [
    "names"
   ]
  },
  {
   "cell_type": "code",
   "execution_count": 12,
   "metadata": {},
   "outputs": [],
   "source": [
    "dfs = []\n",
    "for f in names:\n",
    "    d = newdf(filename=f)\n",
    "    dfs.append(d)"
   ]
  },
  {
   "cell_type": "code",
   "execution_count": 13,
   "metadata": {},
   "outputs": [],
   "source": [
    "mdf = pd.concat(dfs,ignore_index=True)"
   ]
  },
  {
   "cell_type": "code",
   "execution_count": 14,
   "metadata": {},
   "outputs": [],
   "source": [
    "h = []\n",
    "\n",
    "h.extend([1,2])"
   ]
  },
  {
   "cell_type": "code",
   "execution_count": 15,
   "metadata": {},
   "outputs": [],
   "source": [
    "h.extend([3]*6)"
   ]
  },
  {
   "cell_type": "code",
   "execution_count": 16,
   "metadata": {},
   "outputs": [
    {
     "data": {
      "text/html": [
       "<div>\n",
       "<style scoped>\n",
       "    .dataframe tbody tr th:only-of-type {\n",
       "        vertical-align: middle;\n",
       "    }\n",
       "\n",
       "    .dataframe tbody tr th {\n",
       "        vertical-align: top;\n",
       "    }\n",
       "\n",
       "    .dataframe thead th {\n",
       "        text-align: right;\n",
       "    }\n",
       "</style>\n",
       "<table border=\"1\" class=\"dataframe\">\n",
       "  <thead>\n",
       "    <tr style=\"text-align: right;\">\n",
       "      <th></th>\n",
       "      <th>MB</th>\n",
       "      <th>MC</th>\n",
       "      <th>OB</th>\n",
       "      <th>OC</th>\n",
       "      <th>PB</th>\n",
       "      <th>PC</th>\n",
       "      <th>tgt</th>\n",
       "      <th>MGKO</th>\n",
       "      <th>OGKO</th>\n",
       "      <th>PGKO</th>\n",
       "      <th>Mt</th>\n",
       "      <th>Ot</th>\n",
       "      <th>Pt</th>\n",
       "      <th>K</th>\n",
       "      <th>Strain</th>\n",
       "      <th>BObj</th>\n",
       "    </tr>\n",
       "  </thead>\n",
       "  <tbody>\n",
       "    <tr>\n",
       "      <th>0</th>\n",
       "      <td>0.81073</td>\n",
       "      <td>3.28855</td>\n",
       "      <td>0.81073</td>\n",
       "      <td>3.28855</td>\n",
       "      <td>0.81073</td>\n",
       "      <td>3.28843</td>\n",
       "      <td>90</td>\n",
       "      <td>['TPI']</td>\n",
       "      <td>['TPI']</td>\n",
       "      <td>['TPI']</td>\n",
       "      <td>4.337</td>\n",
       "      <td>1.130</td>\n",
       "      <td>1.087</td>\n",
       "      <td>1</td>\n",
       "      <td>iAF</td>\n",
       "      <td>ac</td>\n",
       "    </tr>\n",
       "    <tr>\n",
       "      <th>1</th>\n",
       "      <td>0.71207</td>\n",
       "      <td>5.41346</td>\n",
       "      <td>0.70846</td>\n",
       "      <td>8.30769</td>\n",
       "      <td>0.71207</td>\n",
       "      <td>5.41292</td>\n",
       "      <td>80</td>\n",
       "      <td>['PGM']</td>\n",
       "      <td>['CS']</td>\n",
       "      <td>['ENO']</td>\n",
       "      <td>3.700</td>\n",
       "      <td>0.611</td>\n",
       "      <td>1.255</td>\n",
       "      <td>1</td>\n",
       "      <td>iAF</td>\n",
       "      <td>ac</td>\n",
       "    </tr>\n",
       "    <tr>\n",
       "      <th>2</th>\n",
       "      <td>0.61990</td>\n",
       "      <td>11.19881</td>\n",
       "      <td>0.61990</td>\n",
       "      <td>11.19881</td>\n",
       "      <td>0.71207</td>\n",
       "      <td>5.41292</td>\n",
       "      <td>70</td>\n",
       "      <td>['ICDHyr']</td>\n",
       "      <td>['CS']</td>\n",
       "      <td>['ENO']</td>\n",
       "      <td>2.894</td>\n",
       "      <td>0.574</td>\n",
       "      <td>1.171</td>\n",
       "      <td>1</td>\n",
       "      <td>iAF</td>\n",
       "      <td>ac</td>\n",
       "    </tr>\n",
       "    <tr>\n",
       "      <th>3</th>\n",
       "      <td>0.60892</td>\n",
       "      <td>7.63500</td>\n",
       "      <td>0.53134</td>\n",
       "      <td>13.72187</td>\n",
       "      <td>0.60892</td>\n",
       "      <td>7.63500</td>\n",
       "      <td>60</td>\n",
       "      <td>['PGK']</td>\n",
       "      <td>['CS']</td>\n",
       "      <td>['PGK']</td>\n",
       "      <td>3.901</td>\n",
       "      <td>0.604</td>\n",
       "      <td>1.189</td>\n",
       "      <td>1</td>\n",
       "      <td>iAF</td>\n",
       "      <td>ac</td>\n",
       "    </tr>\n",
       "    <tr>\n",
       "      <th>4</th>\n",
       "      <td>0.60892</td>\n",
       "      <td>7.63523</td>\n",
       "      <td>0.44279</td>\n",
       "      <td>16.17949</td>\n",
       "      <td>0.60892</td>\n",
       "      <td>7.63488</td>\n",
       "      <td>50</td>\n",
       "      <td>['PGK']</td>\n",
       "      <td>['CS']</td>\n",
       "      <td>['GAPD']</td>\n",
       "      <td>2.935</td>\n",
       "      <td>0.573</td>\n",
       "      <td>1.306</td>\n",
       "      <td>1</td>\n",
       "      <td>iAF</td>\n",
       "      <td>ac</td>\n",
       "    </tr>\n",
       "    <tr>\n",
       "      <th>...</th>\n",
       "      <td>...</td>\n",
       "      <td>...</td>\n",
       "      <td>...</td>\n",
       "      <td>...</td>\n",
       "      <td>...</td>\n",
       "      <td>...</td>\n",
       "      <td>...</td>\n",
       "      <td>...</td>\n",
       "      <td>...</td>\n",
       "      <td>...</td>\n",
       "      <td>...</td>\n",
       "      <td>...</td>\n",
       "      <td>...</td>\n",
       "      <td>...</td>\n",
       "      <td>...</td>\n",
       "      <td>...</td>\n",
       "    </tr>\n",
       "    <tr>\n",
       "      <th>265</th>\n",
       "      <td>0.46097</td>\n",
       "      <td>9.24077</td>\n",
       "      <td>0.46097</td>\n",
       "      <td>9.26756</td>\n",
       "      <td>0.72431</td>\n",
       "      <td>0.75937</td>\n",
       "      <td>50</td>\n",
       "      <td>['GND', 'MDH3', 'RPE']</td>\n",
       "      <td>['LDH_D', 'RPE', 'TKT1']</td>\n",
       "      <td>['FUM', 'PGI', 'TKT2']</td>\n",
       "      <td>3.675</td>\n",
       "      <td>3.303</td>\n",
       "      <td>86.082</td>\n",
       "      <td>3</td>\n",
       "      <td>iJR</td>\n",
       "      <td>fum</td>\n",
       "    </tr>\n",
       "    <tr>\n",
       "      <th>266</th>\n",
       "      <td>0.36878</td>\n",
       "      <td>10.21748</td>\n",
       "      <td>0.36878</td>\n",
       "      <td>11.14258</td>\n",
       "      <td>0.72431</td>\n",
       "      <td>0.75937</td>\n",
       "      <td>40</td>\n",
       "      <td>['GND', 'PGI', 'TPI']</td>\n",
       "      <td>['LDH_D', 'RPE', 'TKT2']</td>\n",
       "      <td>['FUM', 'PGI', 'TKT2']</td>\n",
       "      <td>17.225</td>\n",
       "      <td>4.618</td>\n",
       "      <td>101.149</td>\n",
       "      <td>3</td>\n",
       "      <td>iJR</td>\n",
       "      <td>fum</td>\n",
       "    </tr>\n",
       "    <tr>\n",
       "      <th>267</th>\n",
       "      <td>0.27658</td>\n",
       "      <td>12.73535</td>\n",
       "      <td>0.27658</td>\n",
       "      <td>12.97229</td>\n",
       "      <td>0.72431</td>\n",
       "      <td>0.75937</td>\n",
       "      <td>30</td>\n",
       "      <td>['CS', 'MDH', 'MDH2']</td>\n",
       "      <td>['PGL', 'TALA', 'RPE']</td>\n",
       "      <td>['FUM', 'PGI', 'TKT2']</td>\n",
       "      <td>2.972</td>\n",
       "      <td>7.775</td>\n",
       "      <td>109.782</td>\n",
       "      <td>3</td>\n",
       "      <td>iJR</td>\n",
       "      <td>fum</td>\n",
       "    </tr>\n",
       "    <tr>\n",
       "      <th>268</th>\n",
       "      <td>0.18439</td>\n",
       "      <td>14.89366</td>\n",
       "      <td>0.18439</td>\n",
       "      <td>14.89368</td>\n",
       "      <td>0.18439</td>\n",
       "      <td>11.38441</td>\n",
       "      <td>20</td>\n",
       "      <td>['GND', 'MDH2', 'RPE']</td>\n",
       "      <td>['FRD2', 'MDH2', 'RPI']</td>\n",
       "      <td>['GAPD', 'ICDHyr', 'PFK']</td>\n",
       "      <td>2.370</td>\n",
       "      <td>1.052</td>\n",
       "      <td>65.898</td>\n",
       "      <td>3</td>\n",
       "      <td>iJR</td>\n",
       "      <td>fum</td>\n",
       "    </tr>\n",
       "    <tr>\n",
       "      <th>269</th>\n",
       "      <td>0.81093</td>\n",
       "      <td>0.85200</td>\n",
       "      <td>0.09219</td>\n",
       "      <td>16.75265</td>\n",
       "      <td>0.72431</td>\n",
       "      <td>0.75937</td>\n",
       "      <td>10</td>\n",
       "      <td>['FUM', 'HEX1', 'PGI']</td>\n",
       "      <td>['MDH2', 'RPE', 'TKT2']</td>\n",
       "      <td>['FUM', 'PGI', 'TKT2']</td>\n",
       "      <td>12.998</td>\n",
       "      <td>4.038</td>\n",
       "      <td>185.212</td>\n",
       "      <td>3</td>\n",
       "      <td>iJR</td>\n",
       "      <td>fum</td>\n",
       "    </tr>\n",
       "  </tbody>\n",
       "</table>\n",
       "<p>270 rows × 16 columns</p>\n",
       "</div>"
      ],
      "text/plain": [
       "          MB        MC       OB        OC       PB        PC  tgt  \\\n",
       "0    0.81073   3.28855  0.81073   3.28855  0.81073   3.28843   90   \n",
       "1    0.71207   5.41346  0.70846   8.30769  0.71207   5.41292   80   \n",
       "2    0.61990  11.19881  0.61990  11.19881  0.71207   5.41292   70   \n",
       "3    0.60892   7.63500  0.53134  13.72187  0.60892   7.63500   60   \n",
       "4    0.60892   7.63523  0.44279  16.17949  0.60892   7.63488   50   \n",
       "..       ...       ...      ...       ...      ...       ...  ...   \n",
       "265  0.46097   9.24077  0.46097   9.26756  0.72431   0.75937   50   \n",
       "266  0.36878  10.21748  0.36878  11.14258  0.72431   0.75937   40   \n",
       "267  0.27658  12.73535  0.27658  12.97229  0.72431   0.75937   30   \n",
       "268  0.18439  14.89366  0.18439  14.89368  0.18439  11.38441   20   \n",
       "269  0.81093   0.85200  0.09219  16.75265  0.72431   0.75937   10   \n",
       "\n",
       "                       MGKO                      OGKO  \\\n",
       "0                   ['TPI']                   ['TPI']   \n",
       "1                   ['PGM']                    ['CS']   \n",
       "2                ['ICDHyr']                    ['CS']   \n",
       "3                   ['PGK']                    ['CS']   \n",
       "4                   ['PGK']                    ['CS']   \n",
       "..                      ...                       ...   \n",
       "265  ['GND', 'MDH3', 'RPE']  ['LDH_D', 'RPE', 'TKT1']   \n",
       "266   ['GND', 'PGI', 'TPI']  ['LDH_D', 'RPE', 'TKT2']   \n",
       "267   ['CS', 'MDH', 'MDH2']    ['PGL', 'TALA', 'RPE']   \n",
       "268  ['GND', 'MDH2', 'RPE']   ['FRD2', 'MDH2', 'RPI']   \n",
       "269  ['FUM', 'HEX1', 'PGI']   ['MDH2', 'RPE', 'TKT2']   \n",
       "\n",
       "                          PGKO      Mt     Ot       Pt  K Strain BObj  \n",
       "0                      ['TPI']   4.337  1.130    1.087  1    iAF   ac  \n",
       "1                      ['ENO']   3.700  0.611    1.255  1    iAF   ac  \n",
       "2                      ['ENO']   2.894  0.574    1.171  1    iAF   ac  \n",
       "3                      ['PGK']   3.901  0.604    1.189  1    iAF   ac  \n",
       "4                     ['GAPD']   2.935  0.573    1.306  1    iAF   ac  \n",
       "..                         ...     ...    ...      ... ..    ...  ...  \n",
       "265     ['FUM', 'PGI', 'TKT2']   3.675  3.303   86.082  3    iJR  fum  \n",
       "266     ['FUM', 'PGI', 'TKT2']  17.225  4.618  101.149  3    iJR  fum  \n",
       "267     ['FUM', 'PGI', 'TKT2']   2.972  7.775  109.782  3    iJR  fum  \n",
       "268  ['GAPD', 'ICDHyr', 'PFK']   2.370  1.052   65.898  3    iJR  fum  \n",
       "269     ['FUM', 'PGI', 'TKT2']  12.998  4.038  185.212  3    iJR  fum  \n",
       "\n",
       "[270 rows x 16 columns]"
      ]
     },
     "execution_count": 16,
     "metadata": {},
     "output_type": "execute_result"
    }
   ],
   "source": [
    "mdf"
   ]
  },
  {
   "cell_type": "code",
   "execution_count": 17,
   "metadata": {},
   "outputs": [],
   "source": [
    "tdf = {\"v[b]\":[],\n",
    "       \"v[c]\":[],\n",
    "       \"Time\":[],\n",
    "       \"Method\":[],\n",
    "       \"Tgt\":[],\n",
    "       \"K\":[],\n",
    "       \"Strain\":[],\n",
    "       \"Bobj\":[]}\n",
    "for i in range(len(mdf)):\n",
    "    tdf[\"v[b]\"].extend([mdf[\"MB\"].loc[i],mdf[\"OB\"].loc[i],mdf['PB'].loc[i]])\n",
    "    tdf['v[c]'].extend([mdf.MC.loc[i],mdf.OC.loc[i],mdf.PC.loc[i]])\n",
    "    tdf['Time'].extend([mdf.Mt.loc[i],mdf.Ot.loc[i],mdf.Pt.loc[i]])\n",
    "    tdf['Method'].extend(['M',\"O\",\"P\"])\n",
    "    tdf['K'].extend([mdf.K.loc[i]]*3)\n",
    "    tdf['Tgt'].extend([mdf.tgt.loc[i]]*3)\n",
    "    tdf['Strain'].extend([mdf.Strain.loc[i]]*3)\n",
    "    tdf['Bobj'].extend([mdf.BObj.loc[i]]*3)"
   ]
  },
  {
   "cell_type": "code",
   "execution_count": 18,
   "metadata": {},
   "outputs": [],
   "source": [
    "mtdf = pd.DataFrame.from_dict(tdf)"
   ]
  },
  {
   "cell_type": "code",
   "execution_count": null,
   "metadata": {},
   "outputs": [],
   "source": [
    "# with pd.ExcelWriter(\"Full_Results.xlsx\") as writer:\n",
    "#     mtdf.to_excel(writer,sheet_name='Time')\n",
    "#     mdf.to_excel(writer,sheet_name=\"Tests\")\n",
    "#     mdf[['Mt','Ot','Pt',\"K\"]].to_excel(writer,sheet_name=\"TKs\")\n",
    "#     mdf[['Mt',\"Ot\",\"Pt\",\"K\"]][mdf[\"K\"]==2].to_excel(writer,sheet_name=\"TK2\")\n",
    "#     mdf[['Mt',\"Ot\",\"Pt\",\"K\"]][mdf['K']==3].to_excel(writer,sheet_name=\"TK3\")\n",
    "#     mdf[['Mt','Ot','Pt',\"K\"]][mdf[\"K\"]==1].to_excel(writer,sheet_name=\"TK1\")"
   ]
  },
  {
   "cell_type": "code",
   "execution_count": null,
   "metadata": {},
   "outputs": [],
   "source": [
    "# mdf.to_csv(\"Bobjs_complete.csv\")"
   ]
  },
  {
   "cell_type": "code",
   "execution_count": null,
   "metadata": {},
   "outputs": [
    {
     "data": {
      "text/plain": [
       "array([[<AxesSubplot: title={'center': '1'}>,\n",
       "        <AxesSubplot: title={'center': '2'}>],\n",
       "       [<AxesSubplot: title={'center': '3'}>, <AxesSubplot: >]],\n",
       "      dtype=object)"
      ]
     },
     "execution_count": 67,
     "metadata": {},
     "output_type": "execute_result"
    },
    {
     "data": {
      "image/png": "[encoded data removed]",
      "text/plain": [
       "<Figure size 640x480 with 4 Axes>"
      ]
     },
     "metadata": {},
     "output_type": "display_data"
    }
   ],
   "source": [
    "\n",
    "mdf[['Mt',\"K\"]].hist(column=\"Mt\",by=\"K\")\n",
    "\n",
    "    "
   ]
  },
  {
   "cell_type": "code",
   "execution_count": null,
   "metadata": {},
   "outputs": [
    {
     "data": {
      "text/plain": [
       "array([[<AxesSubplot: title={'center': 'iAF'}>,\n",
       "        <AxesSubplot: title={'center': 'iJO'}>],\n",
       "       [<AxesSubplot: title={'center': 'iJR'}>, <AxesSubplot: >]],\n",
       "      dtype=object)"
      ]
     },
     "execution_count": 68,
     "metadata": {},
     "output_type": "execute_result"
    },
    {
     "data": {
      "image/png": "[encoded data removed]",
      "text/plain": [
       "<Figure size 640x480 with 4 Axes>"
      ]
     },
     "metadata": {},
     "output_type": "display_data"
    }
   ],
   "source": [
    "mdf.hist(column=\"Mt\",by=\"Strain\")"
   ]
  },
  {
   "cell_type": "code",
   "execution_count": null,
   "metadata": {},
   "outputs": [
    {
     "data": {
      "text/plain": [
       "array([[<AxesSubplot: title={'center': 'iAF'}>,\n",
       "        <AxesSubplot: title={'center': 'iJO'}>],\n",
       "       [<AxesSubplot: title={'center': 'iJR'}>, <AxesSubplot: >]],\n",
       "      dtype=object)"
      ]
     },
     "execution_count": 69,
     "metadata": {},
     "output_type": "execute_result"
    },
    {
     "data": {
      "image/png": "[encoded data removed]",
      "text/plain": [
       "<Figure size 640x480 with 4 Axes>"
      ]
     },
     "metadata": {},
     "output_type": "display_data"
    }
   ],
   "source": [
    "mdf.hist(column=\"Ot\",by=\"Strain\")"
   ]
  },
  {
   "cell_type": "code",
   "execution_count": null,
   "metadata": {},
   "outputs": [
    {
     "data": {
      "text/plain": [
       "array([[<AxesSubplot: title={'center': 'iAF'}>,\n",
       "        <AxesSubplot: title={'center': 'iJO'}>],\n",
       "       [<AxesSubplot: title={'center': 'iJR'}>, <AxesSubplot: >]],\n",
       "      dtype=object)"
      ]
     },
     "execution_count": 73,
     "metadata": {},
     "output_type": "execute_result"
    },
    {
     "data": {
      "image/png": "[encoded data removed]",
      "text/plain": [
       "<Figure size 640x480 with 4 Axes>"
      ]
     },
     "metadata": {},
     "output_type": "display_data"
    }
   ],
   "source": [
    "mdf.hist(column=\"Pt\",by=\"Strain\")"
   ]
  },
  {
   "cell_type": "code",
   "execution_count": null,
   "metadata": {},
   "outputs": [
    {
     "data": {
      "text/plain": [
       "array([[<AxesSubplot: title={'center': 'M'}>,\n",
       "        <AxesSubplot: title={'center': 'O'}>],\n",
       "       [<AxesSubplot: title={'center': 'P'}>, <AxesSubplot: >]],\n",
       "      dtype=object)"
      ]
     },
     "execution_count": 76,
     "metadata": {},
     "output_type": "execute_result"
    },
    {
     "data": {
      "image/png": "[encoded data removed]",
      "text/plain": [
       "<Figure size 640x480 with 4 Axes>"
      ]
     },
     "metadata": {},
     "output_type": "display_data"
    }
   ],
   "source": [
    "mtdf.hist(column=\"Time\",by=\"Method\")"
   ]
  },
  {
   "cell_type": "code",
   "execution_count": 19,
   "metadata": {},
   "outputs": [
    {
     "data": {
      "text/html": [
       "<div>\n",
       "<style scoped>\n",
       "    .dataframe tbody tr th:only-of-type {\n",
       "        vertical-align: middle;\n",
       "    }\n",
       "\n",
       "    .dataframe tbody tr th {\n",
       "        vertical-align: top;\n",
       "    }\n",
       "\n",
       "    .dataframe thead th {\n",
       "        text-align: right;\n",
       "    }\n",
       "</style>\n",
       "<table border=\"1\" class=\"dataframe\">\n",
       "  <thead>\n",
       "    <tr style=\"text-align: right;\">\n",
       "      <th></th>\n",
       "      <th>v[b]</th>\n",
       "      <th>v[c]</th>\n",
       "      <th>Time</th>\n",
       "      <th>Method</th>\n",
       "      <th>Tgt</th>\n",
       "      <th>K</th>\n",
       "      <th>Strain</th>\n",
       "      <th>Bobj</th>\n",
       "    </tr>\n",
       "  </thead>\n",
       "  <tbody>\n",
       "    <tr>\n",
       "      <th>0</th>\n",
       "      <td>0.81073</td>\n",
       "      <td>3.28855</td>\n",
       "      <td>4.337</td>\n",
       "      <td>M</td>\n",
       "      <td>90</td>\n",
       "      <td>1</td>\n",
       "      <td>iAF</td>\n",
       "      <td>ac</td>\n",
       "    </tr>\n",
       "    <tr>\n",
       "      <th>1</th>\n",
       "      <td>0.81073</td>\n",
       "      <td>3.28855</td>\n",
       "      <td>1.130</td>\n",
       "      <td>O</td>\n",
       "      <td>90</td>\n",
       "      <td>1</td>\n",
       "      <td>iAF</td>\n",
       "      <td>ac</td>\n",
       "    </tr>\n",
       "    <tr>\n",
       "      <th>2</th>\n",
       "      <td>0.81073</td>\n",
       "      <td>3.28843</td>\n",
       "      <td>1.087</td>\n",
       "      <td>P</td>\n",
       "      <td>90</td>\n",
       "      <td>1</td>\n",
       "      <td>iAF</td>\n",
       "      <td>ac</td>\n",
       "    </tr>\n",
       "    <tr>\n",
       "      <th>3</th>\n",
       "      <td>0.71207</td>\n",
       "      <td>5.41346</td>\n",
       "      <td>3.700</td>\n",
       "      <td>M</td>\n",
       "      <td>80</td>\n",
       "      <td>1</td>\n",
       "      <td>iAF</td>\n",
       "      <td>ac</td>\n",
       "    </tr>\n",
       "    <tr>\n",
       "      <th>4</th>\n",
       "      <td>0.70846</td>\n",
       "      <td>8.30769</td>\n",
       "      <td>0.611</td>\n",
       "      <td>O</td>\n",
       "      <td>80</td>\n",
       "      <td>1</td>\n",
       "      <td>iAF</td>\n",
       "      <td>ac</td>\n",
       "    </tr>\n",
       "  </tbody>\n",
       "</table>\n",
       "</div>"
      ],
      "text/plain": [
       "      v[b]     v[c]   Time Method  Tgt  K Strain Bobj\n",
       "0  0.81073  3.28855  4.337      M   90  1    iAF   ac\n",
       "1  0.81073  3.28855  1.130      O   90  1    iAF   ac\n",
       "2  0.81073  3.28843  1.087      P   90  1    iAF   ac\n",
       "3  0.71207  5.41346  3.700      M   80  1    iAF   ac\n",
       "4  0.70846  8.30769  0.611      O   80  1    iAF   ac"
      ]
     },
     "execution_count": 19,
     "metadata": {},
     "output_type": "execute_result"
    }
   ],
   "source": [
    "mtdf.head(5)"
   ]
  },
  {
   "cell_type": "code",
   "execution_count": 20,
   "metadata": {},
   "outputs": [],
   "source": [
    "import matplotlib.pyplot as plt"
   ]
  },
  {
   "cell_type": "code",
   "execution_count": 51,
   "metadata": {},
   "outputs": [],
   "source": [
    "bench = []\n",
    "optim = []\n",
    "pessi = []\n",
    "for strain in ['iJO','iJR',\"iAF\"]:\n",
    "    bench.append(mtdf[\"Time\"][(mtdf[\"Method\"]=='M')&(mtdf[\"K\"]==1)&(mtdf['Strain']==strain)].aggregate(['mean'])[0])\n",
    "    optim.append(mtdf[\"Time\"][(mtdf[\"Method\"]=='O')&(mtdf[\"K\"]==1)&(mtdf['Strain']==strain)].aggregate(['mean'])[0])\n",
    "    pessi.append(mtdf[\"Time\"][(mtdf[\"Method\"]=='P')&(mtdf[\"K\"]==1)&(mtdf['Strain']==strain)].aggregate(['mean'])[0])"
   ]
  },
  {
   "cell_type": "code",
   "execution_count": 56,
   "metadata": {},
   "outputs": [
    {
     "data": {
      "image/png": "[encoded data removed]",
      "text/plain": [
       "<Figure size 640x480 with 1 Axes>"
      ]
     },
     "metadata": {},
     "output_type": "display_data"
    }
   ],
   "source": [
    "import numpy as np\n",
    "x = np.arange(3)\n",
    "width = 0.2\n",
    "plt.bar(x-0.2,bench,width,color='cyan')\n",
    "plt.bar(x,optim,width,color='red')\n",
    "plt.bar(x+0.2,pessi,width,color='green')\n",
    "plt.xticks(x,['iJO','iJR','iAF'])\n",
    "plt.xlabel('Strain')\n",
    "plt.ylabel('Time')\n",
    "plt.legend(['Benchmark','Optimistic','Pessimistic'])\n",
    "plt.show()"
   ]
  },
  {
   "cell_type": "code",
   "execution_count": null,
   "metadata": {},
   "outputs": [],
   "source": []
  }
 ],
 "metadata": {
  "kernelspec": {
   "display_name": "Python 3",
   "language": "python",
   "name": "python3"
  },
  "language_info": {
   "codemirror_mode": {
    "name": "ipython",
    "version": 3
   },
   "file_extension": ".py",
   "mimetype": "text/x-python",
   "name": "python",
   "nbconvert_exporter": "python",
   "pygments_lexer": "ipython3",
   "version": "3.10.8"
  }
 },
 "nbformat": 4,
 "nbformat_minor": 2
}
